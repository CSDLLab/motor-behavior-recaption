{
 "cells": [
  {
   "cell_type": "code",
   "execution_count": 1,
   "metadata": {},
   "outputs": [],
   "source": [
    "import os\n",
    "import torch\n",
    "import numpy as np\n",
    "import pandas as pd\n",
    "import matplotlib.pyplot as plt\n",
    "import matplotlib.transforms as mtransforms\n",
    "import matplotlib.patches as mpatches\n",
    "from scipy.spatial import procrustes\n",
    "import __init_paths"
   ]
  },
  {
   "cell_type": "code",
   "execution_count": 2,
   "metadata": {},
   "outputs": [],
   "source": [
    "from config.st_dynamic_system import config, update_config\n",
    "from models.st_gcn import STDynamicSystem\n",
    "from dataset.muscle_sequence import get_muscle_sequences\n",
    "from utils.visualize import VisualizeMuscle"
   ]
  },
  {
   "cell_type": "code",
   "execution_count": 3,
   "metadata": {},
   "outputs": [],
   "source": [
    "os.chdir('..')\n",
    "os.environ['CUDA_VISIBLE_DEVICES'] = '0'"
   ]
  },
  {
   "cell_type": "code",
   "execution_count": 11,
   "metadata": {},
   "outputs": [],
   "source": [
    "def geo_mean(iterable):\n",
    "    a = np.array(iterable)\n",
    "    return a.prod()**(1.0/len(a))"
   ]
  },
  {
   "cell_type": "code",
   "execution_count": 6,
   "metadata": {},
   "outputs": [],
   "source": [
    "def prepare_input(file_path, in_range=None, reverse=False):\n",
    "    df = pd.read_excel(file_path, header=[0, 1, 2], index_col=0)\n",
    "    df = df.interpolate()\n",
    "    \n",
    "    if in_range is not None:\n",
    "        assert in_range[0] > 0, \"Start time point must after the 0\"\n",
    "        df = df.iloc[in_range[0]-1:in_range[1]]\n",
    "    \n",
    "    # select the x input sequence\n",
    "    x_columns = [c for c in df.columns if c[2] != 'calcium']\n",
    "    angle_columns = [c for c in df.columns if c[2] == 'angle']\n",
    "    for c in angle_columns:\n",
    "        df[c] = df[c].apply(lambda x: x+180 if x < 0 else x)\n",
    "    x = df[x_columns].values.reshape(len(df), -1, 5).transpose((2, 0, 1))\n",
    "    \n",
    "    # select the u input sequence\n",
    "    u_columns = [c for c in df.columns if c[2] == 'calcium']\n",
    "    u = df[u_columns].apply(lambda x: (x - x.min()) / (x.max() - x.min())).values[np.newaxis, :, :]\n",
    "    if reverse:\n",
    "        # reverse the time axis and exchange the x and u\n",
    "        x = np.flip(x, 1)\n",
    "        u = np.flip(u, 1)\n",
    "        data_x = u\n",
    "        data_u = x\n",
    "    else:\n",
    "        data_x = x\n",
    "        data_u = u\n",
    "    \n",
    "    return data_x[:, 0], data_x[:, 1:].astype(np.float32), data_u[:, 1:].astype(np.float32)"
   ]
  },
  {
   "cell_type": "code",
   "execution_count": 36,
   "metadata": {},
   "outputs": [],
   "source": [
    "def inference(model_path, config_file, initial_x, subsequent_u):\n",
    "    \"\"\"Make inference base on the provided model, config file and data\n",
    "    \n",
    "    :param model_path: The tained model parameters file path.\n",
    "    :param config_file: The config file of current task.\n",
    "    :param initial_x: The data for inference.\n",
    "    :param subsequent_u: The subsequent sequence for translation.\n",
    "    \"\"\"\n",
    "    params = {\n",
    "        'cfg': config_file\n",
    "    }\n",
    "    update_config(config, params)\n",
    "    _, adjacency, _ = get_muscle_sequences(config, is_train=False)\n",
    "    \n",
    "    # load the model\n",
    "    model = STDynamicSystem(config, adjacency)\n",
    "    model.cuda()\n",
    "    model.load_checkpoint(model_path)\n",
    "    \n",
    "    # normalize the input\n",
    "    x_std = np.asarray(config.DATASET.X_STD)\n",
    "    x_mean = np.asarray(config.DATASET.X_MEAN)\n",
    "    u_std = np.asarray(config.DATASET.U_STD)\n",
    "    u_mean = np.asarray(config.DATASET.U_MEAN)\n",
    "    initial_x = (initial_x - x_mean[:, np.newaxis]) / x_std[:, np.newaxis]\n",
    "    subsequent_u = (subsequent_u - u_mean[:, np.newaxis, np.newaxis]) / u_std[:, np.newaxis, np.newaxis]\n",
    "    \n",
    "    initial_x = torch.from_numpy(initial_x.astype(np.float32))\n",
    "    subsequent_u = torch.from_numpy(subsequent_u.astype(np.float32))\n",
    "    \n",
    "    pred = model.predict(initial_x, subsequent_u)\n",
    "    pred = pred.detach().cpu().numpy()\n",
    "    pred = pred * x_std[:, np.newaxis, np.newaxis] + x_mean[:, np.newaxis, np.newaxis]\n",
    "    return pred"
   ]
  },
  {
   "cell_type": "code",
   "execution_count": null,
   "metadata": {},
   "outputs": [],
   "source": [
    "def inference_calcium(model_path, config_file, initial_x, subsequent_u):\n",
    "    \"\"\"Make inference base on the provided model, config file and data\n",
    "    \n",
    "    :param model_path: The tained model parameters file path.\n",
    "    :param config_file: The config file of current task.\n",
    "    :param initial_x: The data for inference.\n",
    "    :param subsequent_u: The subsequent sequence for translation.\n",
    "    \"\"\"\n",
    "    params = {\n",
    "        'cfg': config_file\n",
    "    }\n",
    "    update_config(config, params)\n",
    "    _, adjacency, _ = get_muscle_sequences(config, is_train=False)\n",
    "    \n",
    "    # load the model\n",
    "    model = STDynamicSystem(config, adjacency)\n",
    "    model.cuda()\n",
    "    model.load_checkpoint(model_path)\n",
    "    \n",
    "    # normalize the input\n",
    "    x_std = np.asarray(config.DATASET.X_STD)\n",
    "    x_mean = np.asarray(config.DATASET.X_MEAN)\n",
    "    u_std = np.asarray(config.DATASET.U_STD)\n",
    "    u_mean = np.asarray(config.DATASET.U_MEAN)\n",
    "    initial_x = (initial_x - x_mean[:, np.newaxis]) / x_std[:, np.newaxis]\n",
    "    subsequent_u = (subsequent_u - u_mean[:, np.newaxis, np.newaxis]) / u_std[:, np.newaxis, np.newaxis]\n",
    "    \n",
    "    initial_x = torch.from_numpy(initial_x.astype(np.float32))\n",
    "    subsequent_u = torch.from_numpy(subsequent_u.astype(np.float32))\n",
    "    \n",
    "    pred = model.predict(initial_x, subsequent_u)\n",
    "    pred = pred.detach().cpu().numpy()\n",
    "    pred = pred * x_std[:, np.newaxis, np.newaxis] + x_mean[:, np.newaxis, np.newaxis]\n",
    "    return pred"
   ]
  },
  {
   "cell_type": "code",
   "execution_count": 8,
   "metadata": {},
   "outputs": [],
   "source": [
    "def plot_results(pred_all, real_all, save_file, step=1, dpi=600):\n",
    "    \"\"\"Plot the result sequences of prediction and groundtruth\n",
    "    \n",
    "    :param pred_all: The predicted sequence [C, T, V]\n",
    "    :param real_all: The groundtruth sequence [C, T, V]\n",
    "    \"\"\"\n",
    "    time_steps = pred_all.shape[1]\n",
    "    fig, axes = plt.subplots(nrows=2, ncols=time_steps,\n",
    "                             figsize=(time_steps, 2), sharex=True)\n",
    "    axes[0, 0].set_ylabel('Prediction')\n",
    "    axes[1, 0].set_ylabel('Real')\n",
    "    for i in range(0, time_steps):\n",
    "        axes[0, i].set_xticks([])\n",
    "        axes[0, i].set_yticks([])\n",
    "        axes[1, i].set_xticks([])\n",
    "        axes[1, i].set_yticks([])\n",
    "    for i in range(0, time_steps, step):\n",
    "        vis = VisualizeMuscle(pred_all[:, i].T)\n",
    "        vis.show_motion(axes[0, i // step])\n",
    "        vis_gt = VisualizeMuscle(real_all[:, i].T)\n",
    "        vis_gt.show_motion(axes[1, i // step])\n",
    "    fig.tight_layout()\n",
    "    if save_file is not None:\n",
    "        fig.savefig(save_file, dpi=dpi)"
   ]
  },
  {
   "cell_type": "code",
   "execution_count": 9,
   "metadata": {},
   "outputs": [],
   "source": [
    "def to_cartesian_coords(data):\n",
    "    \"\"\"Transform the [length, width, angle, cx, cy] representation to cartesian coordinates\n",
    "    \n",
    "    :param data: [V, C]\n",
    "    \"\"\"\n",
    "    polygons = data\n",
    "    pose = []\n",
    "    for i, p in enumerate(polygons):\n",
    "        affine_transform = mtransforms.Affine2D()\n",
    "        affine_transform.rotate_deg_around(x=p[3], y=p[4], degrees=p[2])\n",
    "        xy = (p[3] - p[0]/2, p[4] - p[1]/2)\n",
    "        width = p[0]\n",
    "        length = p[1]\n",
    "        rect = mpatches.Rectangle(xy, width, length, transform=affine_transform)\n",
    "        coords = np.array([rect.get_xy(),\n",
    "                           [rect.get_x() + rect.get_width(), rect.get_y()],\n",
    "                           [rect.get_x() + rect.get_width(), rect.get_y() + rect.get_height()],\n",
    "                           [rect.get_x(), rect.get_y() + rect.get_height()]])\n",
    "        pose.append(coords)\n",
    "    return np.array(pose)\n",
    "\n",
    "def mae(p1, p2):\n",
    "    \"\"\"Calculate the pose mse based on their cartesian coordinates\n",
    "    \n",
    "    :param p1: [C, V]\n",
    "    :param p2: [C, V]\n",
    "    \"\"\"\n",
    "    p1_cartesian = to_cartesian_coords(p1)\n",
    "    p2_cartesian = to_cartesian_coords(p2)\n",
    "    # mean_p1 = np.mean(p1_cartesian, axis=(0, 1))\n",
    "    # mean_p2 = np.mean(p2_cartesian, axis=(0, 1))\n",
    "    # p1_cartesian -= mean_p1[np.newaxis, np.newaxis, :]\n",
    "    # p2_cartesian -= mean_p2[np.newaxis, np.newaxis, :]\n",
    "    mtx1, mtx2, disparity = procrustes(p1_cartesian.reshape(-1, 2), p2_cartesian.reshape(-1, 2))\n",
    "    # disparity = np.mean(np.linalg.norm(p1_cartesian - p2_cartesian, axis=-1))\n",
    "    return disparity"
   ]
  },
  {
   "cell_type": "code",
   "execution_count": 10,
   "metadata": {},
   "outputs": [],
   "source": [
    "def plot_mae(pred_all, real_all, save_file):\n",
    "    \"\"\"Plot the mean average error between prediction and groundtruth behaviors\n",
    "    \n",
    "    :param pred_all: [N, T, V]\n",
    "    :prarm real_all: [N, T, V]\n",
    "    \"\"\"\n",
    "    sequential_errs = [mae(p1, p2) for (p1, p2) in zip(pred_all.transpose(1, 2, 0), real_all.transpose(1, 2, 0))]\n",
    "    fig, ax = plt.subplots(1, 1, figsize=(10, 2))\n",
    "    ax.plot(sequential_errs)\n",
    "    ax.set_xlabel('Time Step')\n",
    "    ax.set_ylabel('Pose Disparity')\n",
    "    # fig.tight_layout()\n",
    "    fig.savefig(save_file, bbox_inches=\"tight\")\n",
    "    return sequential_errs"
   ]
  },
  {
   "cell_type": "code",
   "execution_count": 12,
   "metadata": {},
   "outputs": [],
   "source": [
    "def calculate_mae(pred_all, real_all, time_steps):\n",
    "    \"\"\"\n",
    "    \n",
    "    :param pred_all: [N, T, V]\n",
    "    :param real_all: [N, T, V]\n",
    "    \"\"\"\n",
    "    sequential_errs = np.asarray([mae(p1, p2) for (p1, p2) in zip(pred_all.transpose(1, 2, 0), real_all.transpose(1, 2, 0))])\n",
    "    grouped_errs = sequential_errs.reshape(-1, time_steps)\n",
    "    overall_errs = [geo_mean(a) for a in grouped_errs]\n",
    "    return np.asarray(overall_errs)"
   ]
  },
  {
   "cell_type": "code",
   "execution_count": 17,
   "metadata": {},
   "outputs": [
    {
     "name": "stdout",
     "output_type": "stream",
     "text": [
      "(1, 38) (1, 64, 38) (5, 64, 38)\n"
     ]
    }
   ],
   "source": [
    "# load data\n",
    "x0, x, u = prepare_input('data/larva/muscle_sequenece/dorsal_single/dorsal-9/dorsal-9.xlsx',\n",
    "                         in_range=(66, 130), reverse=True)\n",
    "print(x0.shape, x.shape, u.shape)"
   ]
  },
  {
   "cell_type": "code",
   "execution_count": 33,
   "metadata": {},
   "outputs": [],
   "source": [
    "# perform inference\n",
    "pred = inference(\n",
    "    'outputs/STDynamicSystem/Muscle2Calcium/dorsal_64steps/checkpoint_latest.pth',\n",
    "    'experiments/st_dynamic_system/muscle2calcium/dorsal_64steps.yaml',\n",
    "    x0,\n",
    "    u\n",
    ")"
   ]
  },
  {
   "cell_type": "code",
   "execution_count": 34,
   "metadata": {},
   "outputs": [],
   "source": [
    "def save_calcium_seq(pred_seq, real_seq, save_file=None):\n",
    "    num_channels = pred_seq.shape[1]\n",
    "    multi_index = pd.MultiIndex.from_product([['ground truth', 'prediction'],\n",
    "                                              [str(i) for i in range(num_channels)]],\n",
    "                                             names=['type', 'Muscle ID'])\n",
    "    df = pd.DataFrame(data=np.concatenate((real_seq, pred_seq), axis=1),\n",
    "                      columns=multi_index)\n",
    "    if save_file is not None:\n",
    "        df.to_excel(save_file)"
   ]
  },
  {
   "cell_type": "code",
   "execution_count": 35,
   "metadata": {},
   "outputs": [],
   "source": [
    "save_calcium_seq(pred[0], x[0], 'dorsal_turn_calcium.xlsx')"
   ]
  },
  {
   "cell_type": "code",
   "execution_count": null,
   "metadata": {},
   "outputs": [],
   "source": []
  }
 ],
 "metadata": {
  "interpreter": {
   "hash": "ef55e840f831526f668f866f54f49fefa15b5c0dcaaa609b04b3909ce223ae41"
  },
  "kernelspec": {
   "display_name": "Python 3.7.10 64-bit ('mda': conda)",
   "name": "python3"
  },
  "language_info": {
   "codemirror_mode": {
    "name": "ipython",
    "version": 3
   },
   "file_extension": ".py",
   "mimetype": "text/x-python",
   "name": "python",
   "nbconvert_exporter": "python",
   "pygments_lexer": "ipython3",
   "version": "3.7.10"
  },
  "orig_nbformat": 4
 },
 "nbformat": 4,
 "nbformat_minor": 2
}
