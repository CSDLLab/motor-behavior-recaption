{
 "cells": [
  {
   "cell_type": "markdown",
   "metadata": {},
   "source": [
    "# Muscle-level ablation"
   ]
  },
  {
   "cell_type": "markdown",
   "metadata": {},
   "source": [
    "To demostrate the importance of a particular muscle, we replace one of the individual muscles' activity with a noise signal and feed it into models, and then compare the generation difference."
   ]
  },
  {
   "cell_type": "code",
   "execution_count": 49,
   "metadata": {},
   "outputs": [],
   "source": [
    "import os\n",
    "import torch\n",
    "import pickle\n",
    "import numpy as np\n",
    "import pandas as pd\n",
    "import matplotlib.pyplot as plt\n",
    "import matplotlib.transforms as mtransforms\n",
    "import matplotlib.patches as mpatches\n",
    "from matplotlib.collections import PatchCollection\n",
    "from scipy.spatial import procrustes\n",
    "from tqdm.notebook import tqdm\n",
    "import __init_paths"
   ]
  },
  {
   "cell_type": "code",
   "execution_count": 2,
   "metadata": {},
   "outputs": [],
   "source": [
    "from config.st_dynamic_system import config, update_config\n",
    "from models.st_gcn import STDynamicSystem\n",
    "from dataset.muscle_sequence import get_muscle_sequences\n",
    "from utils.visualize import VisualizeMuscle"
   ]
  },
  {
   "cell_type": "code",
   "execution_count": 3,
   "metadata": {},
   "outputs": [],
   "source": [
    "os.chdir('..')\n",
    "os.environ['CUDA_VISIBLE_DEVICES'] = '0'"
   ]
  },
  {
   "cell_type": "code",
   "execution_count": 10,
   "metadata": {},
   "outputs": [],
   "source": [
    "# load the dataset\n",
    "with open('./data/larva/ventral.pkl', 'rb') as fp:\n",
    "    ventral_dataset = pickle.load(fp)"
   ]
  },
  {
   "cell_type": "code",
   "execution_count": 11,
   "metadata": {},
   "outputs": [],
   "source": [
    "ventral_calcium_dfs = []\n",
    "ventral_pose_dfs = []\n",
    "for raw_item in ventral_dataset:\n",
    "    df = raw_item['data']\n",
    "    x_cols = [c for c in df.columns if c[2] != 'calcium']\n",
    "    u_cols = [c for c in df.columns if c[2] == 'calcium']\n",
    "    ventral_calcium_dfs.append(df[u_cols])\n",
    "    ventral_pose_dfs.append(df[x_cols])"
   ]
  },
  {
   "cell_type": "code",
   "execution_count": 12,
   "metadata": {},
   "outputs": [],
   "source": [
    "def load_model(model_file, config_file):\n",
    "    params = {\n",
    "        'cfg': config_file\n",
    "    }\n",
    "    update_config(config, params)\n",
    "    _, adjacency, _ = get_muscle_sequences(config, is_train=False)\n",
    "\n",
    "    model = STDynamicSystem(config, adjacency)\n",
    "    model.cuda()\n",
    "    model.load_checkpoint(model_file)\n",
    "    return model\n",
    "\n",
    "def inference_pose(config_file, model, initial_x, subsequent_u):\n",
    "    params = {\n",
    "        'cfg': config_file,\n",
    "    }\n",
    "    update_config(config, params)\n",
    "\n",
    "    # normalize the input\n",
    "    x_std = np.asarray(config.DATASET.X_STD)\n",
    "    x_mean = np.asarray(config.DATASET.X_MEAN)\n",
    "    u_std = np.asarray(config.DATASET.U_STD)\n",
    "    u_mean = np.asarray(config.DATASET.U_MEAN)\n",
    "    initial_x = (initial_x - x_mean[:, np.newaxis]) / x_std[:, np.newaxis]\n",
    "    subsequent_u = (subsequent_u - u_mean[:, np.newaxis, np.newaxis]) / u_std[:, np.newaxis, np.newaxis]\n",
    "    \n",
    "    initial_x = torch.from_numpy(initial_x.astype(np.float32))\n",
    "    subsequent_u = torch.from_numpy(subsequent_u.astype(np.float32))\n",
    "    \n",
    "    pred = model.predict(initial_x, subsequent_u)\n",
    "    pred = pred.detach().cpu().numpy()\n",
    "    pred = pred * x_std[:, np.newaxis, np.newaxis] + x_mean[:, np.newaxis, np.newaxis]\n",
    "    return pred"
   ]
  },
  {
   "cell_type": "code",
   "execution_count": 13,
   "metadata": {},
   "outputs": [],
   "source": [
    "def plot_results(pred_all, real_all, save_file, step=1, dpi=600):\n",
    "    \"\"\"Plot the result sequences of prediction and groundtruth\n",
    "    \n",
    "    :param pred_all: The predicted sequence [C, T, V]\n",
    "    :param real_all: The groundtruth sequence [C, T, V]\n",
    "    \"\"\"\n",
    "    time_steps = pred_all.shape[1]\n",
    "    fig, axes = plt.subplots(nrows=2, ncols=time_steps,\n",
    "                             figsize=(time_steps, 2), sharex=True)\n",
    "    axes[0, 0].set_ylabel('Prediction')\n",
    "    axes[1, 0].set_ylabel('Real')\n",
    "    for i in range(0, time_steps):\n",
    "        axes[0, i].set_xticks([])\n",
    "        axes[0, i].set_yticks([])\n",
    "        axes[1, i].set_xticks([])\n",
    "        axes[1, i].set_yticks([])\n",
    "    for i in range(0, time_steps, step):\n",
    "        vis = VisualizeMuscle(pred_all[:, i].T)\n",
    "        vis.show_motion(axes[0, i // step])\n",
    "        vis_gt = VisualizeMuscle(real_all[:, i].T)\n",
    "        vis_gt.show_motion(axes[1, i // step])\n",
    "    fig.tight_layout()\n",
    "    if save_file is not None:\n",
    "        fig.savefig(save_file, dpi=dpi)"
   ]
  },
  {
   "cell_type": "code",
   "execution_count": 14,
   "metadata": {},
   "outputs": [],
   "source": [
    "def to_cartesian_coords(data):\n",
    "    \"\"\"Transform the [length, width, angle, cx, cy] representation to cartesian coordinates\n",
    "    \n",
    "    :param data: [V, C]\n",
    "    \"\"\"\n",
    "    polygons = data\n",
    "    pose = []\n",
    "    for i, p in enumerate(polygons):\n",
    "        affine_transform = mtransforms.Affine2D()\n",
    "        affine_transform.rotate_deg_around(x=p[3], y=p[4], degrees=p[2])\n",
    "        xy = (p[3] - p[0]/2, p[4] - p[1]/2)\n",
    "        width = p[0]\n",
    "        length = p[1]\n",
    "        rect = mpatches.Rectangle(xy, width, length, transform=affine_transform)\n",
    "        coords = np.array([rect.get_xy(),\n",
    "                           [rect.get_x() + rect.get_width(), rect.get_y()],\n",
    "                           [rect.get_x() + rect.get_width(), rect.get_y() + rect.get_height()],\n",
    "                           [rect.get_x(), rect.get_y() + rect.get_height()]])\n",
    "        pose.append(coords)\n",
    "    return np.array(pose)\n",
    "\n",
    "def mae(p1, p2):\n",
    "    \"\"\"Calculate the pose mse based on their cartesian coordinates\n",
    "    \n",
    "    :param p1: [C, V]\n",
    "    :param p2: [C, V]\n",
    "    \"\"\"\n",
    "    p1_cartesian = to_cartesian_coords(p1)\n",
    "    p2_cartesian = to_cartesian_coords(p2)\n",
    "    mtx1, mtx2, disparity = procrustes(p1_cartesian.reshape(-1, 2), p2_cartesian.reshape(-1, 2))\n",
    "    return disparity"
   ]
  },
  {
   "cell_type": "code",
   "execution_count": 15,
   "metadata": {},
   "outputs": [],
   "source": [
    "def geo_mean(iterable):\n",
    "    a = np.array(iterable)\n",
    "    return a.prod()**(1.0/len(a))"
   ]
  },
  {
   "cell_type": "markdown",
   "metadata": {},
   "source": [
    "## Ventral ablations"
   ]
  },
  {
   "cell_type": "code",
   "execution_count": 16,
   "metadata": {},
   "outputs": [],
   "source": [
    "def muscle_ablation(model_file,\n",
    "                    config_file,\n",
    "                    selected_muscle,\n",
    "                    x_dataset,\n",
    "                    u_dataset):\n",
    "    # dict for saving overall error according to the individual muscle ablation\n",
    "    overall_errs = []\n",
    "\n",
    "    model = load_model(model_file, config_file)\n",
    "    for data_idx, (x_data, u_data) in enumerate(zip(x_dataset, u_dataset)):\n",
    "        num_steps = len(x_data)\n",
    "        if num_steps < 48:\n",
    "            continue\n",
    "        for s in range(num_steps - 48):\n",
    "            x = x_data.copy().values[s:s+49, :]\n",
    "            u = u_data.copy().values[s:s+49, :]\n",
    "            if selected_muscle is not None:\n",
    "                u[:, selected_muscle] = 0.0\n",
    "            x = np.reshape(x, (len(x), -1, 5)).transpose((2, 0, 1))\n",
    "            u = u[np.newaxis, :, :]\n",
    "            x0 = x[:, 0]\n",
    "            x = x[:, 1:]\n",
    "            u = u[:, 1:]\n",
    "            pred = inference_pose(config_file, model, x0, u)\n",
    "            errs = [mae(p1, p2) for (p1, p2) in zip(pred.transpose(1, 2, 0), x.transpose(1, 2, 0))]\n",
    "            overall_errs.extend(errs)\n",
    "    return np.asarray(overall_errs)"
   ]
  },
  {
   "cell_type": "code",
   "execution_count": 87,
   "metadata": {},
   "outputs": [
    {
     "name": "stdout",
     "output_type": "stream",
     "text": [
      "(5, 34) (1, 48, 34)\n"
     ]
    }
   ],
   "source": [
    "model_file = './outputs/STDynamicSystem/Calcium2Muscle/ventral/checkpoint_latest.pth'\n",
    "config_file = './experiments/st_dynamic_system/calcium2muscle/ventral.yaml'\n",
    "data_index = 10\n",
    "start_point = 10\n",
    "x = ventral_pose_dfs[data_index].values[start_point:start_point+49, :]\n",
    "u = ventral_calcium_dfs[data_index].values[start_point+1:start_point+49, :]\n",
    "x = np.reshape(x, (len(x), -1, 5)).transpose((2, 0, 1))\n",
    "u = u[np.newaxis, :, :]\n",
    "x0 = x[:, 0]\n",
    "x = x[:, 1:]\n",
    "print(x0.shape, u.shape)"
   ]
  },
  {
   "cell_type": "code",
   "execution_count": null,
   "metadata": {},
   "outputs": [],
   "source": [
    "ablated_errs = muscle_ablation(model_file, \n",
    "                               config_file, \n",
    "                               1, \n",
    "                               ventral_pose_dfs, \n",
    "                               ventral_calcium_dfs)"
   ]
  },
  {
   "cell_type": "code",
   "execution_count": 13,
   "metadata": {},
   "outputs": [
    {
     "name": "stdout",
     "output_type": "stream",
     "text": [
      "(36576,)\n"
     ]
    }
   ],
   "source": [
    "print(ablated_errs.shape)"
   ]
  },
  {
   "cell_type": "code",
   "execution_count": 14,
   "metadata": {},
   "outputs": [
    {
     "data": {
      "application/vnd.jupyter.widget-view+json": {
       "model_id": "0fae7735a3df496f9471f71d80caa4bb",
       "version_major": 2,
       "version_minor": 0
      },
      "text/plain": [
       "  0%|          | 0/34 [00:00<?, ?it/s]"
      ]
     },
     "metadata": {},
     "output_type": "display_data"
    }
   ],
   "source": [
    "ablated_errs_dict = {}\n",
    "ablated_errs_dict['No'] = muscle_ablation(\n",
    "    model_file, config_file, None, ventral_pose_dfs, ventral_calcium_dfs\n",
    ")\n",
    "num_muscles = ventral_calcium_dfs[0].shape[1]\n",
    "for i in tqdm(range(num_muscles)):\n",
    "    ablated_errs_dict[i] = muscle_ablation(\n",
    "        model_file, config_file, i, ventral_pose_dfs, ventral_calcium_dfs\n",
    "    )\n",
    "with open('./results/ventral_individual_muscle_ablation_errs.pkl', 'wb') as fp:\n",
    "    pickle.dump(ablated_errs_dict, fp)"
   ]
  },
  {
   "cell_type": "code",
   "execution_count": null,
   "metadata": {},
   "outputs": [],
   "source": [
    "print(np.mean(ablated_errs_dict['No']))\n",
    "for i in range(num_muscles):\n",
    "    print(np.mean(ablated_errs_dict[i]))"
   ]
  },
  {
   "cell_type": "code",
   "execution_count": 4,
   "metadata": {},
   "outputs": [],
   "source": [
    "import seaborn as sns\n",
    "import matplotlib.pyplot as plt"
   ]
  },
  {
   "cell_type": "code",
   "execution_count": 5,
   "metadata": {},
   "outputs": [],
   "source": [
    "with open(\"./results/ventral_individual_muscle_ablation_errs.pkl\", \"rb\") as fp:\n",
    "    ablated_errs_dict = pickle.load(fp)"
   ]
  },
  {
   "cell_type": "code",
   "execution_count": 18,
   "metadata": {},
   "outputs": [],
   "source": [
    "ablated_errs_dict['No'] = muscle_ablation(\n",
    "    model_file, config_file, None, ventral_pose_dfs, ventral_calcium_dfs\n",
    ")"
   ]
  },
  {
   "cell_type": "code",
   "execution_count": 19,
   "metadata": {},
   "outputs": [],
   "source": [
    "errs_df = pd.DataFrame(ablated_errs_dict)"
   ]
  },
  {
   "cell_type": "code",
   "execution_count": 35,
   "metadata": {},
   "outputs": [],
   "source": [
    "from natsort import natsorted"
   ]
  },
  {
   "cell_type": "code",
   "execution_count": 36,
   "metadata": {},
   "outputs": [],
   "source": [
    "errs_df = errs_df.reindex(natsorted(errs_df.columns), axis=1)"
   ]
  },
  {
   "cell_type": "code",
   "execution_count": 48,
   "metadata": {},
   "outputs": [
    {
     "data": {
      "image/png": "[encoded data removed]",
      "text/plain": [
       "<Figure size 432x216 with 1 Axes>"
      ]
     },
     "metadata": {
      "needs_background": "light"
     },
     "output_type": "display_data"
    }
   ],
   "source": [
    "fig, ax = plt.subplots(figsize=(6, 3))\n",
    "ax.plot(errs_df.columns[:-1], errs_df.values[:, :-1].mean(axis=0), marker='^')\n",
    "ax.axhline(errs_df.values[:, -1].mean(), ls=':', color='black')\n",
    "ax.plot(34, errs_df.values[:, -1].mean(), marker='^')\n",
    "ax.set_ylabel(\"Average pose disparity\")\n",
    "ax.set_xlabel(\"Ablated muscle ID\")\n",
    "ax.set_xticks(list(np.arange(0, 34, 5, dtype=np.float32)) + [34])\n",
    "ax.set_xticklabels(list(np.arange(0, 34, 5)) + ['No'])\n",
    "sns.despine(left=True)\n",
    "fig.savefig(\"./results/individual_muscle_albation_errs.pdf\", bbox_inches='tight')"
   ]
  },
  {
   "cell_type": "code",
   "execution_count": 40,
   "metadata": {},
   "outputs": [
    {
     "data": {
      "image/png": "[encoded data removed]",
      "text/plain": [
       "<Figure size 864x432 with 1 Axes>"
      ]
     },
     "metadata": {
      "needs_background": "light"
     },
     "output_type": "display_data"
    }
   ],
   "source": [
    "fig, ax = plt.subplots(figsize=(12, 6))\n",
    "ax.boxplot(errs_df.values, showfliers=False)\n",
    "sns.despine(left=True)\n",
    "fig.savefig(\"./results/individual_muscle_albation_errs_box.pdf\")"
   ]
  },
  {
   "cell_type": "code",
   "execution_count": 74,
   "metadata": {},
   "outputs": [],
   "source": [
    "def show_muscle_ablation_heatmap(data, ax=None, muscle_remap=None, strength_levels=None): \n",
    "    if ax is None:\n",
    "        fig, ax = plt.subplots(1, 1, figsize=(10, 10))\n",
    "    if muscle_remap is None:\n",
    "        polygons = data\n",
    "    else:\n",
    "        polygons = data[[muscle_remap[k] for k in muscle_remap], :]\n",
    "    patches = []\n",
    "    for i, p in enumerate(polygons):\n",
    "        affine_transform = mtransforms.Affine2D()\n",
    "        affine_transform.rotate_deg_around(x=p[3], y=p[4], degrees=p[2])\n",
    "        xy = (p[3] - p[0]/2, p[4] - p[1]/2)\n",
    "        width = p[0]\n",
    "        length = p[1]\n",
    "        patches.append(mpatches.Rectangle(xy, width, length, transform=affine_transform))\n",
    "\n",
    "    plot_collection = PatchCollection(patches, alpha=1.0)\n",
    "    if strength_levels is None:\n",
    "        colors = 0.1 * np.arange(len(patches))\n",
    "    else:\n",
    "        norm = plt.Normalize()\n",
    "        # colors = plt.cm.jet(norm(strength_levels))\n",
    "        colors = norm(strength_levels)\n",
    "        # colors = strength_levels\n",
    "        plot_collection.set_cmap('hot')\n",
    "    plot_collection.set_array(colors)\n",
    "    ax.add_collection(plot_collection)\n",
    "    xlim = [polygons[..., 3].min(), polygons[..., 3].max()]\n",
    "    ylim = [polygons[..., 4].min(), polygons[..., 4].max()]\n",
    "    ax.set_xlim(xlim)\n",
    "    ax.set_ylim(ylim)\n",
    "    ax.axis('equal')"
   ]
  },
  {
   "cell_type": "code",
   "execution_count": 88,
   "metadata": {},
   "outputs": [
    {
     "data": {
      "image/png": "[encoded data removed]",
      "text/plain": [
       "<Figure size 576x576 with 1 Axes>"
      ]
     },
     "metadata": {
      "needs_background": "light"
     },
     "output_type": "display_data"
    }
   ],
   "source": [
    "fig, ax = plt.subplots(1, 1, figsize=(8, 8))\n",
    "show_muscle_ablation_heatmap(x0.T, ax=ax, strength_levels=errs_df.values[:, :-1].mean(axis=0))\n",
    "ax.axis('off')\n",
    "fig.savefig(\"./results/individual_muscle_ablation_importance.pdf\")"
   ]
  },
  {
   "cell_type": "code",
   "execution_count": null,
   "metadata": {},
   "outputs": [],
   "source": []
  }
 ],
 "metadata": {
  "interpreter": {
   "hash": "5d52df4d0d7e1d3f2cea9e5566101766e2ef120932a840774d5a19f7c95f788d"
  },
  "kernelspec": {
   "display_name": "Python 3.8.11 64-bit ('mda': conda)",
   "name": "python3"
  },
  "language_info": {
   "codemirror_mode": {
    "name": "ipython",
    "version": 3
   },
   "file_extension": ".py",
   "mimetype": "text/x-python",
   "name": "python",
   "nbconvert_exporter": "python",
   "pygments_lexer": "ipython3",
   "version": "3.8.11"
  },
  "orig_nbformat": 4
 },
 "nbformat": 4,
 "nbformat_minor": 2
}
